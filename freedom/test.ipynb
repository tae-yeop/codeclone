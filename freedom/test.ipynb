{
 "cells": [
  {
   "cell_type": "code",
   "execution_count": 4,
   "metadata": {},
   "outputs": [
    {
     "data": {
      "application/vnd.jupyter.widget-view+json": {
       "model_id": "2544878201b3435887411510fd0bf517",
       "version_major": 2,
       "version_minor": 0
      },
      "text/plain": [
       "DDIM Sampler:   0%|          | 0/30 [00:00<?, ?it/s]"
      ]
     },
     "metadata": {},
     "output_type": "display_data"
    },
    {
     "name": "stdout",
     "output_type": "stream",
     "text": [
      "0 29 29\n",
      "1 28 28\n",
      "2 27 27\n",
      "3 26 26\n",
      "4 25 25\n",
      "5 24 24\n",
      "6 23 23\n",
      "7 22 22\n",
      "8 21 21\n",
      "9 20 20\n",
      "10 19 19\n",
      "11 18 18\n",
      "12 17 17\n",
      "13 16 16\n",
      "14 15 15\n",
      "15 14 14\n",
      "16 13 13\n",
      "17 12 12\n",
      "18 11 11\n",
      "19 10 10\n",
      "20 9 9\n",
      "21 8 8\n",
      "22 7 7\n",
      "23 6 6\n",
      "24 5 5\n",
      "25 4 4\n",
      "26 3 3\n",
      "27 2 2\n",
      "28 1 1\n",
      "29 0 0\n"
     ]
    }
   ],
   "source": [
    "from tqdm.notebook import tqdm\n",
    "\n",
    "timesteps = 30\n",
    "time_range = reversed(range(0,timesteps))\n",
    "total_steps = timesteps\n",
    "\n",
    "iterator = tqdm(time_range, desc='DDIM Sampler', total=total_steps)\n",
    "for i, step in enumerate(iterator):\n",
    "    index = total_steps - i - 1\n",
    "    print(i, step, index)\n",
    "    "
   ]
  },
  {
   "cell_type": "code",
   "execution_count": null,
   "metadata": {},
   "outputs": [],
   "source": []
  }
 ],
 "metadata": {
  "kernelspec": {
   "display_name": "hugging",
   "language": "python",
   "name": "python3"
  },
  "language_info": {
   "codemirror_mode": {
    "name": "ipython",
    "version": 3
   },
   "file_extension": ".py",
   "mimetype": "text/x-python",
   "name": "python",
   "nbconvert_exporter": "python",
   "pygments_lexer": "ipython3",
   "version": "3.9.17"
  },
  "orig_nbformat": 4
 },
 "nbformat": 4,
 "nbformat_minor": 2
}
