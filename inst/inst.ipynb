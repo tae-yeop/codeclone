{
 "cells": [
  {
   "cell_type": "code",
   "execution_count": 2,
   "metadata": {},
   "outputs": [
    {
     "name": "stdout",
     "output_type": "stream",
     "text": [
      "target t_enc is 25 steps\n"
     ]
    }
   ],
   "source": [
    "strength = 0.5\n",
    "ddim_steps = 50\n",
    "\n",
    "\n",
    "t_enc = int(strength * ddim_steps)\n",
    "print(f\"target t_enc is {t_enc} steps\")"
   ]
  },
  {
   "cell_type": "code",
   "execution_count": 6,
   "metadata": {},
   "outputs": [],
   "source": [
    "from einops import rearrange, repeat\n",
    "import torch"
   ]
  },
  {
   "cell_type": "code",
   "execution_count": 7,
   "metadata": {},
   "outputs": [
    {
     "data": {
      "text/plain": [
       "torch.Size([10, 3, 4])"
      ]
     },
     "execution_count": 7,
     "metadata": {},
     "output_type": "execute_result"
    }
   ],
   "source": [
    "repeat(torch.randn((1, 3, 4)), '1 ... -> b ...', b=10).shape"
   ]
  },
  {
   "cell_type": "code",
   "execution_count": null,
   "metadata": {},
   "outputs": [],
   "source": [
    "@torch.no_grad()\n",
    "def encode_first_stage(self, x):\n",
    "    return self.first_stage_model.encode(x)\n",
    "\n",
    "def get_first_stage_encoding(self, encoder_posterior):\n",
    "    if isinstance(encoder_posterior, DiagonalGaussianDistribution):\n",
    "        z = encoder_posterior.sample()\n",
    "    elif isinstance(encoder_posterior, torch.Tensor):\n",
    "        z = encoder_posterior\n",
    "\n",
    "    return self.scale_factor * z"
   ]
  },
  {
   "cell_type": "code",
   "execution_count": null,
   "metadata": {},
   "outputs": [],
   "source": [
    "# 여기가 vae\n",
    "\n",
    "content_image = repeat(content_image, '1 ... -> b ...', b=batch_size)\n",
    "# 왜 두번 latent => posterior sample\n",
    "content_latent = model.get_first_stage_encoding(model.encode_first_stage(content_image))\n",
    "init_latent = content_latent"
   ]
  },
  {
   "cell_type": "code",
   "execution_count": 8,
   "metadata": {},
   "outputs": [],
   "source": [
    "def extract_into_tensor(a, t, x_shape):\n",
    "    b, *_ = t.shape\n",
    "    out = a.gather(-1, t)\n",
    "    return out.reshape(b, *((1,) * (len(x_shape) - 1)))"
   ]
  },
  {
   "cell_type": "code",
   "execution_count": null,
   "metadata": {},
   "outputs": [],
   "source": [
    "class DDIMSampler(object):\n",
    "    def __init__(self, model, schedule=\"linear\", **kwargs):\n",
    "        super().__init__()\n",
    "        self.model = model\n",
    "        self.ddpm_num_timesteps = model.num_timesteps\n",
    "        self.schedule = schedule\n",
    "\n",
    "    @torch.no_grad()\n",
    "    def stochastic_encode(self, x0, t, use_original_steps=False, noise=None):\n",
    "        if use_original_steps: # 원본 DDIM alphas를 사용함\n",
    "            sqrt_alphas_cumprod = self.sqrt_alphas_cumprod\n",
    "            sqrt_one_minus_alphas_cumprod = self.sqrt_one_minus_alphas_cumprod\n",
    "        else:\n",
    "            sqrt_alphas_cumprod = torch.sqrt(self.ddim_alphas)\n",
    "            sqrt_one_minus_alphas_cumprod = self.ddim_sqrt_one_minus_alphas\n",
    "\n",
    "        if noise is None:\n",
    "            noise = torch.randn_like(x0)\n",
    "        return (extract_into_tensor(sqrt_alphas_cumprod, t, x0.shape) * x0 + \n",
    "                extract_into_tensor(sqrt_one_minus_alphas_cumprod, t, x0.shape) * noise)\n",
    "\n",
    "    def make_schedule(self, ddim_num_steps, ddim_discretize=\"uniform\", ddim_eta=0., verbose=True):\n",
    "        self.ddim_timesteps = make_ddim()\n",
    "\n",
    "    "
   ]
  },
  {
   "cell_type": "code",
   "execution_count": null,
   "metadata": {},
   "outputs": [],
   "source": [
    "sampler = DDIMSampler(model)"
   ]
  },
  {
   "cell_type": "code",
   "execution_count": null,
   "metadata": {},
   "outputs": [],
   "source": [
    "sampler.make_schedule(ddim_num_steps=ddim_steps, ddim_eta=ddim_eta, verbose=False)"
   ]
  },
  {
   "cell_type": "code",
   "execution_count": null,
   "metadata": {},
   "outputs": [],
   "source": [
    "uc = model.get_learned_conditioning(batch_size * [\"\"], style_image)\n",
    "\n",
    "\n",
    "c= model.get_learned_conditioning(prompts, style_image)\n",
    "\n",
    "\n",
    "# stochastic inversion\n",
    "t_enc = int(strength * 1000)\n",
    "\n",
    "if scale != 1.0:\n",
    "    uc = model.get_learned_conditioning(batch_size * [\"\"], style_image)\n",
    "if isinstance(prompts, tuple):\n",
    "    prompts = list(prompts)\n",
    "\n",
    "c= model.get_learned_conditioning(prompts, style_image)\n",
    "\n",
    "\n",
    "t_enc = int(strength * 1000)\n",
    "x_noisy = model.q_sample(x_start=init_latent, t=torch.tensor([t_enc]*batch_size).to(device))\n",
    "model_output = model.apply_model(x_noisy, torch.tensor([t_enc]))\n",
    "z_enc = sampler.stochastic_encode(init_latent, torch.tensor())"
   ]
  }
 ],
 "metadata": {
  "kernelspec": {
   "display_name": "hugging",
   "language": "python",
   "name": "python3"
  },
  "language_info": {
   "codemirror_mode": {
    "name": "ipython",
    "version": 3
   },
   "file_extension": ".py",
   "mimetype": "text/x-python",
   "name": "python",
   "nbconvert_exporter": "python",
   "pygments_lexer": "ipython3",
   "version": "3.9.17"
  },
  "orig_nbformat": 4
 },
 "nbformat": 4,
 "nbformat_minor": 2
}
