{
 "cells": [
  {
   "cell_type": "code",
   "execution_count": 1,
   "metadata": {},
   "outputs": [],
   "source": [
    "from cp_dataset import CPDataset\n",
    "from train_condition import get_opt\n",
    "\n",
    "import os\n",
    "from PIL import Image"
   ]
  },
  {
   "cell_type": "code",
   "execution_count": 2,
   "metadata": {},
   "outputs": [],
   "source": [
    "opt = get_opt()"
   ]
  },
  {
   "cell_type": "code",
   "execution_count": 3,
   "metadata": {},
   "outputs": [
    {
     "data": {
      "text/plain": [
       "192"
      ]
     },
     "execution_count": 3,
     "metadata": {},
     "output_type": "execute_result"
    }
   ],
   "source": [
    "opt.fine_width"
   ]
  },
  {
   "cell_type": "code",
   "execution_count": 4,
   "metadata": {},
   "outputs": [
    {
     "ename": "FileNotFoundError",
     "evalue": "[Errno 2] No such file or directory: './data/train_pairs.txt'",
     "output_type": "error",
     "traceback": [
      "\u001b[0;31m---------------------------------------------------------------------------\u001b[0m",
      "\u001b[0;31mFileNotFoundError\u001b[0m                         Traceback (most recent call last)",
      "Cell \u001b[0;32mIn[4], line 1\u001b[0m\n\u001b[0;32m----> 1\u001b[0m train_dataset \u001b[39m=\u001b[39m CPDataset(opt)\n",
      "File \u001b[0;32m~/tykim/generative_model/human/HR-VITON/cp_dataset.py:35\u001b[0m, in \u001b[0;36mCPDataset.__init__\u001b[0;34m(self, opt)\u001b[0m\n\u001b[1;32m     33\u001b[0m im_names \u001b[39m=\u001b[39m []\n\u001b[1;32m     34\u001b[0m c_names \u001b[39m=\u001b[39m []\n\u001b[0;32m---> 35\u001b[0m \u001b[39mwith\u001b[39;00m \u001b[39mopen\u001b[39;49m(osp\u001b[39m.\u001b[39;49mjoin(opt\u001b[39m.\u001b[39;49mdataroot, opt\u001b[39m.\u001b[39;49mdata_list), \u001b[39m'\u001b[39;49m\u001b[39mr\u001b[39;49m\u001b[39m'\u001b[39;49m) \u001b[39mas\u001b[39;00m f:\n\u001b[1;32m     36\u001b[0m     \u001b[39mfor\u001b[39;00m line \u001b[39min\u001b[39;00m f\u001b[39m.\u001b[39mreadlines():\n\u001b[1;32m     37\u001b[0m         im_name, c_name \u001b[39m=\u001b[39m line\u001b[39m.\u001b[39mstrip()\u001b[39m.\u001b[39msplit()\n",
      "\u001b[0;31mFileNotFoundError\u001b[0m: [Errno 2] No such file or directory: './data/train_pairs.txt'"
     ]
    }
   ],
   "source": [
    "train_dataset = CPDataset(opt)"
   ]
  },
  {
   "cell_type": "code",
   "execution_count": 5,
   "metadata": {},
   "outputs": [],
   "source": [
    "# 임의의 인물과 옷 사진 조합\n",
    "\n",
    "im_names = []\n",
    "c_names = []\n",
    "with open('/home/aiteam/tykim/generative_model/human/HR-VITON/train_pairs.txt', 'r') as f:\n",
    "    for line in f.readlines():\n",
    "        im_name, c_name = line.strip().split()\n",
    "        im_names.append(im_name)\n",
    "        c_names.append(c_name)"
   ]
  },
  {
   "cell_type": "code",
   "execution_count": 6,
   "metadata": {},
   "outputs": [
    {
     "data": {
      "text/plain": [
       "(['10224_00.jpg',\n",
       "  '12308_00.jpg',\n",
       "  '08020_00.jpg',\n",
       "  '11066_00.jpg',\n",
       "  '05020_00.jpg',\n",
       "  '10814_00.jpg',\n",
       "  '08994_00.jpg',\n",
       "  '07690_00.jpg',\n",
       "  '01492_00.jpg',\n",
       "  '03456_00.jpg'],\n",
       " ['03195_00.jpg',\n",
       "  '07502_00.jpg',\n",
       "  '01091_00.jpg',\n",
       "  '13399_00.jpg',\n",
       "  '01444_00.jpg',\n",
       "  '11910_00.jpg',\n",
       "  '02899_00.jpg',\n",
       "  '13449_00.jpg',\n",
       "  '00171_00.jpg',\n",
       "  '00744_00.jpg'])"
      ]
     },
     "execution_count": 6,
     "metadata": {},
     "output_type": "execute_result"
    }
   ],
   "source": [
    "im_names[:10], c_names[:10]"
   ]
  },
  {
   "cell_type": "code",
   "execution_count": 10,
   "metadata": {},
   "outputs": [],
   "source": [
    "index = 0\n",
    "\n",
    "\n",
    "im_name = im_names[index]\n",
    "im_name = 'image/' + im_name"
   ]
  },
  {
   "cell_type": "code",
   "execution_count": 11,
   "metadata": {},
   "outputs": [
    {
     "data": {
      "text/plain": [
       "'image/10224_00.jpg'"
      ]
     },
     "execution_count": 11,
     "metadata": {},
     "output_type": "execute_result"
    }
   ],
   "source": [
    "im_name"
   ]
  },
  {
   "cell_type": "code",
   "execution_count": 7,
   "metadata": {},
   "outputs": [],
   "source": [
    "import torch\n",
    "import torchvision.transforms as transforms\n",
    "import numpy as np"
   ]
  },
  {
   "cell_type": "code",
   "execution_count": 8,
   "metadata": {},
   "outputs": [],
   "source": [
    "parse_name = 'image-parse-v3/00000_00.png'"
   ]
  },
  {
   "cell_type": "code",
   "execution_count": 9,
   "metadata": {},
   "outputs": [
    {
     "name": "stderr",
     "output_type": "stream",
     "text": [
      "/home/aiteam/miniconda3/envs/3dfm/lib/python3.8/site-packages/torchvision/transforms/transforms.py:332: UserWarning: Argument 'interpolation' of type int is deprecated since 0.13 and will be removed in 0.15. Please use InterpolationMode enum.\n",
      "  warnings.warn(\n"
     ]
    }
   ],
   "source": [
    "im_parse_pil_big = Image.open(os.path.join('./data', parse_name))\n",
    "im_parse_pil = transforms.Resize([opt.fine_width],  interpolation=0)(im_parse_pil_big)"
   ]
  },
  {
   "cell_type": "code",
   "execution_count": 10,
   "metadata": {},
   "outputs": [
    {
     "data": {
      "image/png": "[encoded data removed]",
      "text/plain": [
       "<PIL.Image.Image image mode=P size=192x256>"
      ]
     },
     "execution_count": 10,
     "metadata": {},
     "output_type": "execute_result"
    }
   ],
   "source": [
    "im_parse_pil"
   ]
  },
  {
   "cell_type": "code",
   "execution_count": 17,
   "metadata": {},
   "outputs": [],
   "source": [
    "# [1, 256, 192]\n",
    "parse = torch.from_numpy(np.array(im_parse_pil)[None]).long()"
   ]
  },
  {
   "cell_type": "code",
   "execution_count": 18,
   "metadata": {},
   "outputs": [
    {
     "data": {
      "text/plain": [
       "torch.Size([1, 256, 192])"
      ]
     },
     "execution_count": 18,
     "metadata": {},
     "output_type": "execute_result"
    }
   ],
   "source": [
    "parse.shape"
   ]
  },
  {
   "cell_type": "code",
   "execution_count": 11,
   "metadata": {},
   "outputs": [],
   "source": [
    "trsf = transforms.Compose([  \\\n",
    "                transforms.ToTensor(),   \\\n",
    "                transforms.Normalize((0.5, 0.5, 0.5), (0.5, 0.5, 0.5))])"
   ]
  },
  {
   "cell_type": "code",
   "execution_count": 12,
   "metadata": {},
   "outputs": [],
   "source": [
    "im_parse = trsf(im_parse_pil.convert('RGB'))"
   ]
  },
  {
   "cell_type": "code",
   "execution_count": 13,
   "metadata": {},
   "outputs": [],
   "source": [
    "labels = {\n",
    "            0:  ['background',  [0, 10]],\n",
    "            1:  ['hair',        [1, 2]],\n",
    "            2:  ['face',        [4, 13]],\n",
    "            3:  ['upper',       [5, 6, 7]],\n",
    "            4:  ['bottom',      [9, 12]],\n",
    "            5:  ['left_arm',    [14]],\n",
    "            6:  ['right_arm',   [15]],\n",
    "            7:  ['left_leg',    [16]],\n",
    "            8:  ['right_leg',   [17]],\n",
    "            9:  ['left_shoe',   [18]],\n",
    "            10: ['right_shoe',  [19]],\n",
    "            11: ['socks',       [8]],\n",
    "            12: ['noise',       [3, 11]]\n",
    "        }"
   ]
  },
  {
   "cell_type": "code",
   "execution_count": 15,
   "metadata": {},
   "outputs": [],
   "source": [
    "parse_map = torch.FloatTensor(20, opt.fine_height, opt.fine_width).zero_()"
   ]
  },
  {
   "cell_type": "code",
   "execution_count": 19,
   "metadata": {},
   "outputs": [],
   "source": [
    "# parse 값이 있는 위치에 1을 넣어줌\n",
    "# 채널 방향으로 0~20에 있는 값의 위치에 대해 1을 넣어줌\n",
    "parse_map = parse_map.scatter_(0, parse, 1.0)"
   ]
  },
  {
   "cell_type": "code",
   "execution_count": 27,
   "metadata": {},
   "outputs": [],
   "source": [
    "import lovely_tensors as lt\n",
    "lt.monkey_patch()"
   ]
  },
  {
   "cell_type": "code",
   "execution_count": 26,
   "metadata": {},
   "outputs": [
    {
     "data": {
      "text/plain": [
       "tensor([0., 1.])"
      ]
     },
     "execution_count": 26,
     "metadata": {},
     "output_type": "execute_result"
    }
   ],
   "source": [
    "torch.unique(parse_map)"
   ]
  },
  {
   "cell_type": "code",
   "execution_count": 33,
   "metadata": {},
   "outputs": [
    {
     "data": {
      "text/plain": [
       "tensor[8] i64 x∈[0, 15] μ=8.500 σ=5.632 [0, 2, 5, 9, 10, 13, 14, 15]"
      ]
     },
     "execution_count": 33,
     "metadata": {},
     "output_type": "execute_result"
    }
   ],
   "source": [
    "torch.unique(parse)"
   ]
  },
  {
   "cell_type": "code",
   "execution_count": 32,
   "metadata": {},
   "outputs": [
    {
     "data": {
      "image/png": "[encoded data removed]",
      "text/plain": [
       "<lovely_tensors.repr_chans.ChanProxy at 0x7fc606a812b0>"
      ]
     },
     "execution_count": 32,
     "metadata": {},
     "output_type": "execute_result"
    }
   ],
   "source": [
    "lt.chans(parse)"
   ]
  },
  {
   "cell_type": "code",
   "execution_count": 31,
   "metadata": {},
   "outputs": [
    {
     "data": {
      "image/png": "[encoded data removed]",
      "text/plain": [
       "<lovely_tensors.repr_chans.ChanProxy at 0x7fc606a7eac0>"
      ]
     },
     "execution_count": 31,
     "metadata": {},
     "output_type": "execute_result"
    }
   ],
   "source": [
    "lt.chans(parse_map)"
   ]
  },
  {
   "cell_type": "code",
   "execution_count": 34,
   "metadata": {},
   "outputs": [],
   "source": [
    "new_parse_map = torch.FloatTensor(opt.semantic_nc, opt.fine_height, opt.fine_width).zero_()"
   ]
  },
  {
   "cell_type": "code",
   "execution_count": 35,
   "metadata": {},
   "outputs": [
    {
     "name": "stdout",
     "output_type": "stream",
     "text": [
      "0\n",
      "10\n",
      "1\n",
      "2\n",
      "4\n",
      "13\n",
      "5\n",
      "6\n",
      "7\n",
      "9\n",
      "12\n",
      "14\n",
      "15\n",
      "16\n",
      "17\n",
      "18\n",
      "19\n",
      "8\n",
      "3\n",
      "11\n"
     ]
    }
   ],
   "source": [
    "for i in range(len(labels)):\n",
    "    for label in labels[i][1]:\n",
    "        print(label)\n",
    "        # new_parse_map[i] += parse_map[label]"
   ]
  }
 ],
 "metadata": {
  "kernelspec": {
   "display_name": "3dfm",
   "language": "python",
   "name": "python3"
  },
  "language_info": {
   "codemirror_mode": {
    "name": "ipython",
    "version": 3
   },
   "file_extension": ".py",
   "mimetype": "text/x-python",
   "name": "python",
   "nbconvert_exporter": "python",
   "pygments_lexer": "ipython3",
   "version": "3.8.15"
  },
  "orig_nbformat": 4
 },
 "nbformat": 4,
 "nbformat_minor": 2
}
