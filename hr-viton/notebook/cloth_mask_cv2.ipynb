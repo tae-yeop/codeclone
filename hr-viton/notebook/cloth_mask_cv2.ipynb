{
 "cells": [
  {
   "cell_type": "code",
   "execution_count": 1,
   "metadata": {},
   "outputs": [],
   "source": [
    "import cv2\n",
    "import numpy as np\n",
    "\n",
    "# Load RGB image\n",
    "img = cv2.imread('/home/aiteam/tykim/generative_model/human/HR-VITON/data/dresscode/upper_body/images/000000_1.jpg')\n",
    "\n",
    "# Convert to grayscale\n",
    "gray = cv2.cvtColor(img, cv2.COLOR_BGR2GRAY)\n",
    "\n",
    "# Threshold to create binary mask\n",
    "ret, mask = cv2.threshold(gray, 0, 255, cv2.THRESH_BINARY_INV+cv2.THRESH_OTSU)\n",
    "\n",
    "# Find contours\n",
    "contours, hierarchy = cv2.findContours(mask, cv2.RETR_EXTERNAL, cv2.CHAIN_APPROX_SIMPLE)\n",
    "\n",
    "# Create blank mask image\n",
    "mask_image = np.zeros_like(mask)\n",
    "\n",
    "# Draw contours on mask image\n",
    "cv2.drawContours(mask_image, contours, -1, (255, 255, 255), -1)\n",
    "\n",
    "# Save mask image\n",
    "img = cv2.imwrite('/home/aiteam/tykim/generative_model/human/HR-VITON/data/dresscode/upper_body/images/cloth_mask.jpg', mask_image)"
   ]
  },
  {
   "cell_type": "code",
   "execution_count": 2,
   "metadata": {},
   "outputs": [
    {
     "data": {
      "text/plain": [
       "True"
      ]
     },
     "execution_count": 2,
     "metadata": {},
     "output_type": "execute_result"
    }
   ],
   "source": [
    "import cv2\n",
    "import numpy as np\n",
    "\n",
    "# Load RGB image\n",
    "img = cv2.imread('/home/aiteam/tykim/generative_model/human/HR-VITON/data/dresscode/upper_body/images/000000_1.jpg')\n",
    "\n",
    "# Convert to grayscale\n",
    "gray = cv2.cvtColor(img, cv2.COLOR_BGR2GRAY)\n",
    "\n",
    "# Apply Gaussian blur to remove noise\n",
    "blur = cv2.GaussianBlur(gray, (5, 5), 0)\n",
    "\n",
    "# Find edges using Canny edge detector\n",
    "edges = cv2.Canny(blur, 50, 150)\n",
    "\n",
    "# Dilate edges to make them wider\n",
    "kernel = cv2.getStructuringElement(cv2.MORPH_ELLIPSE, (5, 5))\n",
    "dilated = cv2.dilate(edges, kernel)\n",
    "\n",
    "# Fill in contours to create binary mask\n",
    "contours, hierarchy = cv2.findContours(dilated, cv2.RETR_EXTERNAL, cv2.CHAIN_APPROX_SIMPLE)\n",
    "mask = np.zeros_like(gray)\n",
    "cv2.drawContours(mask, contours, -1, (255, 255, 255), -1)\n",
    "\n",
    "# Save mask image\n",
    "cv2.imwrite('/home/aiteam/tykim/generative_model/human/HR-VITON/data/dresscode/upper_body/images/cloth_mask2.jpg', mask)"
   ]
  },
  {
   "cell_type": "code",
   "execution_count": 4,
   "metadata": {},
   "outputs": [
    {
     "name": "stderr",
     "output_type": "stream",
     "text": [
      "Lossy conversion from float64 to uint8. Range [0.0, 255.0]. Convert image to uint8 prior to saving to suppress this warning.\n"
     ]
    }
   ],
   "source": [
    "# Color segmentation\n",
    "import numpy as np\n",
    "from skimage import io, color, filters\n",
    "\n",
    "# Load RGB image\n",
    "img = io.imread('/home/aiteam/tykim/generative_model/human/HR-VITON/data/dresscode/upper_body/images/000000_1.jpg')\n",
    "\n",
    "# Convert to LAB color space\n",
    "lab = color.rgb2lab(img)\n",
    "\n",
    "# Split into color channels\n",
    "L = lab[:,:,0]\n",
    "A = lab[:,:,1]\n",
    "B = lab[:,:,2]\n",
    "\n",
    "# Create mask based on color thresholds\n",
    "mask = np.zeros_like(L)\n",
    "mask[(L > 40) & (A > -10) & (A < 10) & (B > -10) & (B < 10)] = 255\n",
    "\n",
    "# Apply Gaussian blur to mask\n",
    "mask = filters.gaussian(mask, sigma=3)\n",
    "\n",
    "# Save mask image\n",
    "io.imsave('/home/aiteam/tykim/generative_model/human/HR-VITON/data/dresscode/upper_body/images/cloth_mask3.jpg', mask)"
   ]
  },
  {
   "cell_type": "code",
   "execution_count": 6,
   "metadata": {},
   "outputs": [
    {
     "data": {
      "text/plain": [
       "True"
      ]
     },
     "execution_count": 6,
     "metadata": {},
     "output_type": "execute_result"
    }
   ],
   "source": [
    "import cv2\n",
    "import numpy as np\n",
    "\n",
    "# Load RGB image\n",
    "img = cv2.imread('/home/aiteam/tykim/generative_model/human/HR-VITON/data/dresscode/lower_body/images/013563_1.jpg')\n",
    "\n",
    "# Convert to grayscale\n",
    "gray = cv2.cvtColor(img, cv2.COLOR_BGR2GRAY)\n",
    "\n",
    "# Apply Gaussian blur to remove noise\n",
    "blur = cv2.GaussianBlur(gray, (5, 5), 0)\n",
    "\n",
    "# Find edges using Canny edge detector\n",
    "edges = cv2.Canny(blur, 50, 150)\n",
    "\n",
    "# Dilate edges to make them wider\n",
    "kernel = cv2.getStructuringElement(cv2.MORPH_ELLIPSE, (5, 5))\n",
    "dilated = cv2.dilate(edges, kernel)\n",
    "\n",
    "# Fill in contours to create binary mask\n",
    "contours, hierarchy = cv2.findContours(dilated, cv2.RETR_EXTERNAL, cv2.CHAIN_APPROX_SIMPLE)\n",
    "mask = np.zeros_like(gray)\n",
    "cv2.drawContours(mask, contours, -1, (255, 255, 255), -1)\n",
    "\n",
    "# Save mask image\n",
    "cv2.imwrite('/home/aiteam/tykim/generative_model/human/HR-VITON/data/dresscode/lower_body/images/cloth_mask1.jpg', mask)"
   ]
  }
 ],
 "metadata": {
  "kernelspec": {
   "display_name": "3dfm",
   "language": "python",
   "name": "python3"
  },
  "language_info": {
   "codemirror_mode": {
    "name": "ipython",
    "version": 3
   },
   "file_extension": ".py",
   "mimetype": "text/x-python",
   "name": "python",
   "nbconvert_exporter": "python",
   "pygments_lexer": "ipython3",
   "version": "3.8.15"
  },
  "orig_nbformat": 4
 },
 "nbformat": 4,
 "nbformat_minor": 2
}
