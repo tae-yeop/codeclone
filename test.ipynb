{
 "cells": [
  {
   "cell_type": "code",
   "execution_count": 1,
   "metadata": {},
   "outputs": [
    {
     "data": {
      "text/plain": [
       "float"
      ]
     },
     "execution_count": 1,
     "metadata": {},
     "output_type": "execute_result"
    }
   ],
   "source": [
    "t = 1.3\n",
    "a = 1.9\n",
    "\n",
    "type(a)"
   ]
  },
  {
   "cell_type": "code",
   "execution_count": 2,
   "metadata": {},
   "outputs": [],
   "source": [
    "if t >= a:\n",
    "    prinT('a')"
   ]
  },
  {
   "cell_type": "code",
   "execution_count": 1,
   "metadata": {},
   "outputs": [],
   "source": [
    "import torcha\n"
   ]
  },
  {
   "cell_type": "code",
   "execution_count": 5,
   "metadata": {},
   "outputs": [
    {
     "data": {
      "text/plain": [
       "torch.Size([3, 32, 32])"
      ]
     },
     "execution_count": 5,
     "metadata": {},
     "output_type": "execute_result"
    }
   ],
   "source": [
    "torch.randn(10, 3, 32, 32)[0].shape"
   ]
  },
  {
   "cell_type": "code",
   "execution_count": 4,
   "metadata": {},
   "outputs": [
    {
     "data": {
      "text/plain": [
       "torch.Size([3, 3, 32, 32])"
      ]
     },
     "execution_count": 4,
     "metadata": {},
     "output_type": "execute_result"
    }
   ],
   "source": [
    "torch.randn(1, 3, 32, 32).repeat_interleave(3, dim=0).shape"
   ]
  },
  {
   "cell_type": "code",
   "execution_count": 5,
   "metadata": {},
   "outputs": [],
   "source": [
    "class MyClass:\n",
    "    def say_hello(self):\n",
    "        print(f\"Hello from {self}\")\n",
    "\n",
    "def shout():\n",
    "    print(\"Shouting!\")\n",
    "\n",
    "# Create an instance of MyClass\n",
    "my_instance = MyClass()\n",
    "\n",
    "# Try to assign the function shout to the method say_hello\n",
    "my_instance.say_hello = shout\n"
   ]
  },
  {
   "cell_type": "code",
   "execution_count": 6,
   "metadata": {},
   "outputs": [
    {
     "name": "stdout",
     "output_type": "stream",
     "text": [
      "Shouting!\n"
     ]
    }
   ],
   "source": [
    "my_instance.say_hello()"
   ]
  },
  {
   "cell_type": "code",
   "execution_count": 8,
   "metadata": {},
   "outputs": [
    {
     "name": "stdout",
     "output_type": "stream",
     "text": [
      "<__main__.MyClass object at 0x7f3f7c7be080> is shouting!\n"
     ]
    }
   ],
   "source": [
    "def shout(self):\n",
    "    print(f\"{self} is shouting!\")\n",
    "\n",
    "# Bind the function shout to my_instance as a method\n",
    "my_instance.say_hello = shout.__get__(my_instance, MyClass)\n",
    "\n",
    "# Now we can call say_hello, and it will execute the shout function\n",
    "my_instance.say_hello()\n"
   ]
  },
  {
   "cell_type": "code",
   "execution_count": 7,
   "metadata": {},
   "outputs": [
    {
     "name": "stdout",
     "output_type": "stream",
     "text": [
      "Accessed name of <__main__.Person object at 0x7f3f7c7bcb80>\n",
      "Alice\n"
     ]
    }
   ],
   "source": [
    "class NameDescriptor:\n",
    "    def __get__(self, instance, owner):\n",
    "        if instance is None:\n",
    "            return self\n",
    "        print(f\"Accessed name of {instance}\")\n",
    "        return instance._name\n",
    "\n",
    "class Person:\n",
    "    name = NameDescriptor()\n",
    "\n",
    "    def __init__(self, name):\n",
    "        self._name = name\n",
    "\n",
    "p = Person(\"Alice\")\n",
    "print(p.name)  # This will print \"Accessed name of <__main__.Person object at 0x7f8d8c3b3a90>\" and \"Alice\"\n"
   ]
  },
  {
   "cell_type": "code",
   "execution_count": 9,
   "metadata": {},
   "outputs": [
    {
     "name": "stdout",
     "output_type": "stream",
     "text": [
      "Meow!\n"
     ]
    }
   ],
   "source": [
    "class Dog:\n",
    "    def bark(self):\n",
    "        print(f\"{self.name} says woof!\")\n",
    "\n",
    "def meow():\n",
    "    print(\"Meow!\")\n",
    "\n",
    "# Create an instance of Dog\n",
    "my_dog = Dog()\n",
    "my_dog.name = \"Fido\"\n",
    "\n",
    "# Assign the function meow to the bark method\n",
    "my_dog.bark = meow\n",
    "\n",
    "# Now when we call bark, it will execute the meow function\n",
    "my_dog.bark()  # This will print \"Meow!\"\n"
   ]
  },
  {
   "cell_type": "code",
   "execution_count": 10,
   "metadata": {},
   "outputs": [
    {
     "name": "stdout",
     "output_type": "stream",
     "text": [
      "Fido says purr!\n"
     ]
    }
   ],
   "source": [
    "def purr(self):\n",
    "    print(f\"{self.name} says purr!\")\n",
    "\n",
    "# Bind the function purr to my_dog as a method\n",
    "my_dog.bark = purr.__get__(my_dog, Dog)\n",
    "\n",
    "# Now when we call bark, it will execute the purr function with access to my_dog\n",
    "my_dog.bark()  # This will print \"Fido says purr!\"\n"
   ]
  },
  {
   "cell_type": "code",
   "execution_count": 6,
   "metadata": {},
   "outputs": [
    {
     "name": "stderr",
     "output_type": "stream",
     "text": [
      "/usr/local/lib/python3.10/dist-packages/tqdm/auto.py:21: TqdmWarning: IProgress not found. Please update jupyter and ipywidgets. See https://ipywidgets.readthedocs.io/en/stable/user_install.html\n",
      "  from .autonotebook import tqdm as notebook_tqdm\n"
     ]
    }
   ],
   "source": [
    "import torch\n",
    "from diffusers import UniPCMultistepScheduler\n",
    "from diffusers.utils import load_image"
   ]
  },
  {
   "cell_type": "code",
   "execution_count": 7,
   "metadata": {},
   "outputs": [],
   "source": [
    "from stable_diffusion_reference import StableDiffusionReferencePipeline"
   ]
  },
  {
   "cell_type": "code",
   "execution_count": null,
   "metadata": {},
   "outputs": [],
   "source": [
    "pipe = StableDiffusionReferencePipeline.from_pretrained(\n",
    "       \"runwayml/stable-diffusion-v1-5\",\n",
    "       safety_checker=None,\n",
    "       torch_dtype=torch.float16,\n",
    "       cache_dir=''\n",
    "       ).to('cuda:0')"
   ]
  }
 ],
 "metadata": {
  "kernelspec": {
   "display_name": "Python 3",
   "language": "python",
   "name": "python3"
  },
  "language_info": {
   "codemirror_mode": {
    "name": "ipython",
    "version": 3
   },
   "file_extension": ".py",
   "mimetype": "text/x-python",
   "name": "python",
   "nbconvert_exporter": "python",
   "pygments_lexer": "ipython3",
   "version": "3.10.6"
  },
  "orig_nbformat": 4
 },
 "nbformat": 4,
 "nbformat_minor": 2
}
