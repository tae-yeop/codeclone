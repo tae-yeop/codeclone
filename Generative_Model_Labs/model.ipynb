{
 "cells": [
  {
   "cell_type": "code",
   "execution_count": 1,
   "metadata": {},
   "outputs": [
    {
     "name": "stdout",
     "output_type": "stream",
     "text": [
      "/home/aiteam/tykim/generative/Generative_Model_Labs/src\n"
     ]
    }
   ],
   "source": [
    "cd .."
   ]
  },
  {
   "cell_type": "code",
   "execution_count": 2,
   "metadata": {},
   "outputs": [
    {
     "name": "stderr",
     "output_type": "stream",
     "text": [
      "/home/aiteam/miniconda3/envs/3dfm/lib/python3.8/site-packages/tqdm/auto.py:22: TqdmWarning: IProgress not found. Please update jupyter and ipywidgets. See https://ipywidgets.readthedocs.io/en/stable/user_install.html\n",
      "  from .autonotebook import tqdm as notebook_tqdm\n"
     ]
    }
   ],
   "source": [
    "import torch\n",
    "import torch.nn as nn\n",
    "from models.stylegan2 import SynthesisBlock\n",
    "import utils.style_misc as misc"
   ]
  },
  {
   "cell_type": "code",
   "execution_count": 3,
   "metadata": {},
   "outputs": [],
   "source": [
    "batch_size = 16\n",
    "in_channels=32\n",
    "out_channels=64\n",
    "w_dim=512\n",
    "resolution=128\n",
    "img_channels=3\n",
    "\n",
    "\n",
    "img = torch.randn((batch_size, img_channels, resolution//2, resolution//2)).to('cuda')\n",
    "ws = torch.randn((batch_size, 3, w_dim)).to('cuda')\n",
    "x = torch.randn((batch_size, in_channels, resolution//2, resolution//2)).to('cuda')\n",
    "\n",
    "test_blk = SynthesisBlock(in_channels=32, out_channels=64, w_dim=512, resolution=128, img_channels=3, is_last=True, use_fp16=True, fp16_channels_last=True).to('cuda')"
   ]
  },
  {
   "cell_type": "code",
   "execution_count": 4,
   "metadata": {},
   "outputs": [
    {
     "data": {
      "text/plain": [
       "(2, 1)"
      ]
     },
     "execution_count": 4,
     "metadata": {},
     "output_type": "execute_result"
    }
   ],
   "source": [
    "test_blk.num_conv, test_blk.num_torgb"
   ]
  },
  {
   "cell_type": "code",
   "execution_count": 4,
   "metadata": {},
   "outputs": [
    {
     "data": {
      "text/plain": [
       "torch.float32"
      ]
     },
     "execution_count": 4,
     "metadata": {},
     "output_type": "execute_result"
    }
   ],
   "source": [
    "test_blk.resample_filter.dtype"
   ]
  },
  {
   "cell_type": "code",
   "execution_count": 14,
   "metadata": {},
   "outputs": [],
   "source": [
    "out_x, out_img = test_blk(x, img, ws)"
   ]
  },
  {
   "cell_type": "code",
   "execution_count": 15,
   "metadata": {},
   "outputs": [
    {
     "data": {
      "text/plain": [
       "torch.Size([16, 64, 128, 128])"
      ]
     },
     "execution_count": 15,
     "metadata": {},
     "output_type": "execute_result"
    }
   ],
   "source": [
    "out_x.shape"
   ]
  },
  {
   "cell_type": "code",
   "execution_count": 16,
   "metadata": {},
   "outputs": [
    {
     "data": {
      "text/plain": [
       "torch.Size([16, 3, 128, 128])"
      ]
     },
     "execution_count": 16,
     "metadata": {},
     "output_type": "execute_result"
    }
   ],
   "source": [
    "out_img.shape"
   ]
  },
  {
   "cell_type": "code",
   "execution_count": 5,
   "metadata": {},
   "outputs": [],
   "source": [
    "from types import MethodType"
   ]
  },
  {
   "cell_type": "code",
   "execution_count": 6,
   "metadata": {},
   "outputs": [],
   "source": [
    "def forward2(self, x, img, ws, force_fp32=False, fused_modconv=None, update_emas=False, **layer_kwargs):\n",
    "    _ = update_emas # unused\n",
    "    misc.assert_shape(ws, [None, self.num_conv + self.num_torgb, self.w_dim])\n",
    "    w_iter = iter(ws.unbind(dim=1))\n",
    "    dtype = torch.float16 if self.use_fp16 and not force_fp32 else torch.float32\n",
    "    memory_format = torch.channels_last if self.channels_last and not force_fp32 else torch.contiguous_format\n",
    "    if fused_modconv is None:\n",
    "        with misc.suppress_tracer_warnings():  # this value will be treated as a constant\n",
    "            fused_modconv = (not self.training) and (dtype == torch.float32 or int(x.shape[0]) == 1)\n",
    "\n",
    "    # Input.\n",
    "    if self.in_channels == 0:\n",
    "        x = self.const.to(dtype=dtype, memory_format=memory_format)\n",
    "        x = x.unsqueeze(0).repeat([ws.shape[0], 1, 1, 1])\n",
    "    else:\n",
    "        misc.assert_shape(x, [None, self.in_channels, self.resolution // 2, self.resolution // 2])\n",
    "        x = x.to(dtype=dtype, memory_format=memory_format)\n",
    "\n",
    "    # Main layers.\n",
    "    if self.in_channels == 0:\n",
    "        x = self.conv1(x, next(w_iter), fused_modconv=fused_modconv, **layer_kwargs)\n",
    "    elif self.architecture == \"resnet\":\n",
    "        y = self.skip(x, gain=np.sqrt(0.5))\n",
    "        x = self.conv0(x, next(w_iter), fused_modconv=fused_modconv, **layer_kwargs)\n",
    "        x = self.conv1(x, next(w_iter), fused_modconv=fused_modconv, gain=np.sqrt(0.5), **layer_kwargs)\n",
    "        x = y.add_(x)\n",
    "    else:\n",
    "        x = self.conv0(x, next(w_iter), fused_modconv=fused_modconv, **layer_kwargs)\n",
    "        x = self.conv1(x, next(w_iter), fused_modconv=fused_modconv, **layer_kwargs)\n",
    "\n",
    "    return x"
   ]
  },
  {
   "cell_type": "code",
   "execution_count": 7,
   "metadata": {},
   "outputs": [],
   "source": [
    "test_blk.forward2 = MethodType(forward2, test_blk)"
   ]
  },
  {
   "cell_type": "code",
   "execution_count": 8,
   "metadata": {},
   "outputs": [
    {
     "data": {
      "text/plain": [
       "device(type='cuda', index=0)"
      ]
     },
     "execution_count": 8,
     "metadata": {},
     "output_type": "execute_result"
    }
   ],
   "source": [
    "x.device"
   ]
  },
  {
   "cell_type": "code",
   "execution_count": 9,
   "metadata": {},
   "outputs": [
    {
     "name": "stdout",
     "output_type": "stream",
     "text": [
      "Setting up PyTorch plugin \"upfirdn2d_plugin\"... Done.\n",
      "Setting up PyTorch plugin \"bias_act_plugin\"... Done.\n"
     ]
    }
   ],
   "source": [
    "x_out = test_blk.forward2(x, img, ws)"
   ]
  },
  {
   "cell_type": "code",
   "execution_count": 10,
   "metadata": {},
   "outputs": [
    {
     "data": {
      "text/plain": [
       "torch.float16"
      ]
     },
     "execution_count": 10,
     "metadata": {},
     "output_type": "execute_result"
    }
   ],
   "source": [
    "x_out.dtype"
   ]
  },
  {
   "cell_type": "code",
   "execution_count": 21,
   "metadata": {},
   "outputs": [
    {
     "data": {
      "text/plain": [
       "torch.float16"
      ]
     },
     "execution_count": 21,
     "metadata": {},
     "output_type": "execute_result"
    }
   ],
   "source": [
    "test_x = torch.randn(3, 10, 32, 32).to('cuda', dtype=torch.float16, memory_format=torch.channels_last)\n",
    "test = nn.Conv2d(10, 20, 3).to('cuda', dtype=torch.float16, memory_format=torch.channels_last)\n",
    "\n",
    "test(test_x).dtype"
   ]
  },
  {
   "cell_type": "code",
   "execution_count": 25,
   "metadata": {},
   "outputs": [
    {
     "name": "stdout",
     "output_type": "stream",
     "text": [
      "torch.float16\n"
     ]
    }
   ],
   "source": [
    "test_x = torch.randn(3, 10, 32, 32).cuda()\n",
    "test = nn.Conv2d(10, 20, 3).cuda()\n",
    "\n",
    "with torch.autocast(device_type='cuda', dtype=torch.float16):\n",
    "    output = test(test_x)\n",
    "    print(output.dtype)"
   ]
  },
  {
   "cell_type": "code",
   "execution_count": 23,
   "metadata": {},
   "outputs": [
    {
     "data": {
      "text/plain": [
       "torch.float32"
      ]
     },
     "execution_count": 23,
     "metadata": {},
     "output_type": "execute_result"
    }
   ],
   "source": [
    "output.dtype"
   ]
  }
 ],
 "metadata": {
  "kernelspec": {
   "display_name": "Python 3.8.15 ('3dfm')",
   "language": "python",
   "name": "python3"
  },
  "language_info": {
   "codemirror_mode": {
    "name": "ipython",
    "version": 3
   },
   "file_extension": ".py",
   "mimetype": "text/x-python",
   "name": "python",
   "nbconvert_exporter": "python",
   "pygments_lexer": "ipython3",
   "version": "3.8.15"
  },
  "orig_nbformat": 4,
  "vscode": {
   "interpreter": {
    "hash": "0041225012c46a81f6ea3650572d975902102d8f41a1704402cdfe5d667efe52"
   }
  }
 },
 "nbformat": 4,
 "nbformat_minor": 2
}
